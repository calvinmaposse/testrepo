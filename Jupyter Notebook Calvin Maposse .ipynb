{
 "cells": [
  {
   "cell_type": "markdown",
   "metadata": {},
   "source": [
    "# My Jupyter Noteboook on IBM Watson studio"
   ]
  },
  {
   "cell_type": "markdown",
   "metadata": {},
   "source": [
    "<b>Calvin Maposse</b> <br>\n",
    "Data Scientist"
   ]
  },
  {
   "cell_type": "markdown",
   "metadata": {},
   "source": [
    "<i>I am interested in data science because I am very impressed and passionate about what is possible with machine learning and would love to play a part in my own way.</i>"
   ]
  },
  {
   "cell_type": "markdown",
   "metadata": {},
   "source": [
    "### The code below must print all the even numbers below 20"
   ]
  },
  {
   "cell_type": "code",
   "execution_count": 2,
   "metadata": {},
   "outputs": [
    {
     "name": "stdout",
     "output_type": "stream",
     "text": [
      "2\n",
      "4\n",
      "6\n",
      "8\n",
      "10\n",
      "12\n",
      "14\n",
      "16\n",
      "18\n"
     ]
    }
   ],
   "source": [
    "for i in range (2, 20, 2):\n",
    "    print (i)"
   ]
  },
  {
   "cell_type": "markdown",
   "metadata": {},
   "source": [
    "<ul>\n",
    "    <li>Python</li>\n",
    "    <li>R</li>\n",
    "    <li>SQL</li>\n",
    " </ul>\n",
    " <ol>\n",
    "    <li>Data cleaning and preparation</li>\n",
    "    <li>Exploratory analysis</li>\n",
    "    <li>Predictive ML model training</li>\n",
    "    <li>ML model testing</li>\n",
    " </ol>\n",
    " <table>\n",
    "    <tr>\n",
    "        <th>User id</th>\n",
    "        <th>Name</th>\n",
    "        <th>Role</th>\n",
    "    </tr>\n",
    "    <tr>\n",
    "        <td>001</td>\n",
    "        <td>Joe Goldberg</td>\n",
    "        <td>Obssessive lover</td>\n",
    "    </tr>\n",
    "    <tr>\n",
    "        <td>002</td>\n",
    "        <td>James St. Patrick</td>\n",
    "        <td>Hardcore drug dealer</td>\n",
    "    </tr>\n",
    "    <tr>\n",
    "        <td>003</td>\n",
    "        <td>Thanos</td>\n",
    "        <td>Best villain ever</td>\n",
    "    </tr>\n",
    " </table>\n",
    "    \n",
    " "
   ]
  }
 ],
 "metadata": {
  "kernelspec": {
   "display_name": "Python 3",
   "language": "python",
   "name": "python3"
  },
  "language_info": {
   "codemirror_mode": {
    "name": "ipython",
    "version": 3
   },
   "file_extension": ".py",
   "mimetype": "text/x-python",
   "name": "python",
   "nbconvert_exporter": "python",
   "pygments_lexer": "ipython3",
   "version": "3.8.5"
  }
 },
 "nbformat": 4,
 "nbformat_minor": 4
}
